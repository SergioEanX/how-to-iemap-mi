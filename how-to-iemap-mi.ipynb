{
 "cells": [
  {
   "metadata": {},
   "cell_type": "markdown",
   "source": "# How to use \"iemap-mi\" Python module",
   "id": "a571ae857bab5908"
  },
  {
   "metadata": {},
   "cell_type": "markdown",
   "source": [
    "1) Install the module using pip    <br/><br/>\n",
    "   ```pip install -U iemap-mi```    <br/><br/>\n",
    "\n",
    "2) Or install all modules using poetry : <br/> <br/>\n",
    "   ```poetry install```<br><br/>    \n",
    "   This will install all the required modules including iemap-mi, according to .toml file <br/><br/>\n",
    "\n",
    "**If using the Docker image, all the modules are already installed.** <br/><br/>\n",
    "Uncomment cell below and run it to install module (if not yet installed)"
   ],
   "id": "c41c61c4abd4d2c2"
  },
  {
   "metadata": {},
   "cell_type": "code",
   "source": "# !pip install -U iemap-mi",
   "id": "d47aa7d7127444cd",
   "outputs": [],
   "execution_count": null
  },
  {
   "metadata": {},
   "cell_type": "markdown",
   "source": [
    "The ```%autoawait on``` magic command is a feature specific to IPython and Jupyter environments   \n",
    "that simplifies working with asynchronous code.    \n",
    "Here's a detailed explanation:   \n",
    "\n",
    "**Purpose**:   \n",
    "\n",
    "```%autoawait on``` allows you to use await expressions directly in the notebook without    \n",
    "explicitly creating and running a coroutine or event loop.\n",
    "\n",
    "**How it works**:   \n",
    "\n",
    "When enabled, IPython automatically wraps each cell's contents in an async function.\n",
    "It then runs this function using the current event loop.\n",
    "\n",
    "**Benefits**:\n",
    "\n",
    "Simplifies async code execution in notebooks.\n",
    "Allows you to write async code more naturally, as if you were in an async function.\n",
    "Eliminates the need for boilerplate code to run async functions.\n",
    "\n",
    "Usage:\n",
    "\n",
    "Run ```%autoawait on``` at the beginning of your notebook or in any cell before you start using async code.\n",
    "After enabling, you can use await directly in your cells."
   ],
   "id": "3a3aafa19629f6a8"
  },
  {
   "metadata": {},
   "cell_type": "markdown",
   "source": "",
   "id": "d34b2100ebcecda0"
  },
  {
   "metadata": {},
   "cell_type": "code",
   "source": "%autoawait on",
   "id": "2dc3eb7885ad4d1e",
   "outputs": [],
   "execution_count": null
  },
  {
   "metadata": {},
   "cell_type": "markdown",
   "source": "## Import necessary modules",
   "id": "ceb94c1401fb22f5"
  },
  {
   "metadata": {},
   "cell_type": "code",
   "source": [
    "import json\n",
    "import httpx\n",
    "import pandas as pd\n",
    "from pprint import pprint\n",
    "from pathlib import Path\n",
    "from pydantic import TypeAdapter\n",
    "from tqdm import tqdm\n",
    "from iemap_mi import IemapMI\n",
    "from ipywidgets import widgets, FileUpload\n",
    "from typing import List\n",
    "from iemap_mi.models import (IEMAPProject, Project, Material, Process, Agent,\n",
    "                             Parameter, Property, FlattenedProjectBase, FlattenedProjectHashEmail, FileInfo)\n",
    "from iemap_mi.project_handler import ProjectHandler\n",
    "from iemap_mi.utils import flatten_project_data"
   ],
   "id": "initial_id",
   "outputs": [],
   "execution_count": null
  },
  {
   "metadata": {},
   "cell_type": "markdown",
   "source": "3. Instantiate the class, call it \"client\" (or anyway you want) and start using it.",
   "id": "1c045f98a2276c88"
  },
  {
   "metadata": {},
   "cell_type": "code",
   "source": [
    "# Initialize the client\n",
    "client = IemapMI()"
   ],
   "id": "f2fdd4bc332eb66e",
   "outputs": [],
   "execution_count": null
  },
  {
   "metadata": {},
   "cell_type": "markdown",
   "source": "4. Start by printing the version of the module.",
   "id": "57a2a148c552ff03"
  },
  {
   "metadata": {},
   "cell_type": "code",
   "source": [
    "# Print the module version (for time of writing this is 0.2.0)\n",
    "IemapMI.print_version()"
   ],
   "id": "250edb7d0f7fc40",
   "outputs": [],
   "execution_count": null
  },
  {
   "metadata": {},
   "cell_type": "code",
   "source": [
    "# Get user credentials, necessary for authentication and authorization of the user with the API\n",
    "username_widget = widgets.Text(description=\"Username:\", placeholder='Enter your username (email address)',)\n",
    "password_widget = widgets.Password(description=\"Password:\",    placeholder='Enter your password',)\n",
    "display(username_widget, password_widget)"
   ],
   "id": "b998b66b2f58d84",
   "outputs": [],
   "execution_count": null
  },
  {
   "metadata": {},
   "cell_type": "markdown",
   "source": "",
   "id": "e55d50faf60f377d"
  },
  {
   "metadata": {},
   "cell_type": "code",
   "source": [
    "# Get the input values from the widgets\n",
    "username = username_widget.value\n",
    "password = password_widget.value\n",
    "# Check if the username and password are valid\n",
    "if username==\"\" or password==\"\":\n",
    "    raise ValueError(\"Please enter a valid username and password.\")"
   ],
   "id": "86e083429894b9dc",
   "outputs": [],
   "execution_count": null
  },
  {
   "metadata": {},
   "cell_type": "code",
   "source": [
    "# Authenticate the user with the API\n",
    "# This function will authenticate the user with the API using the provided username and password\n",
    "# If successful, it will return the user's token (which can be used for subsequent API calls)\n",
    "# If unsuccessful, it will raise an exception with the error message\n",
    "# JWT is stored in the client object (client.token)\n",
    "async def authenticate_user(client_iemap, user_email, passwd):\n",
    "    await client_iemap.authenticate(username=user_email, password=passwd)\n",
    "    print(\"Authenticated successfully!\")"
   ],
   "id": "b8b1de103c83a3d7",
   "outputs": [],
   "execution_count": null
  },
  {
   "metadata": {},
   "cell_type": "code",
   "source": [
    "# Authenticate the user\n",
    "# This will set the client.token if successful\n",
    "# If unsuccessful, it will raise an exception\n",
    "# being an async function, we need to use await, so we use the await keyword\n",
    "# to call the authenticate_user function, this works only in an async environment, this is why we use %autoawait on\n",
    "result_auth=await authenticate_user(client, username, password) "
   ],
   "id": "178ef47d1165ba62",
   "outputs": [],
   "execution_count": null
  },
  {
   "metadata": {},
   "cell_type": "markdown",
   "source": "",
   "id": "fa31f34c0f7b093c"
  },
  {
   "metadata": {},
   "cell_type": "code",
   "source": "# JWT can be shown using client.token",
   "id": "24049ad6f402dd2c",
   "outputs": [],
   "execution_count": null
  },
  {
   "metadata": {},
   "cell_type": "markdown",
   "source": [
    "## Example of using the API to fetch projects   \n",
    "\n",
    "1. define an helper async function, *iterate_projects*,  to fetch projects \n",
    "2. use method get_projects from project_handler to fetch projects\n",
    "3. flatten the projects data and display it in a pandas dataframe\n"
   ],
   "id": "6f160b1a803a0b36"
  },
  {
   "metadata": {},
   "cell_type": "code",
   "source": [
    "# Example of how to get the projects\n",
    "async def iterate_projects(client: IemapMI, page_size: int = 40) -> None:\n",
    "    page_number = 1\n",
    "    all_projects: List[FlattenedProjectBase] = []\n",
    "    total_projects = None\n",
    "\n",
    "    while True:\n",
    "        projects_response = await client.project_handler.get_projects(page_size=page_size, page_number=page_number)\n",
    "        if not projects_response.data:\n",
    "            break\n",
    "\n",
    "        adapter = TypeAdapter(FlattenedProjectHashEmail)\n",
    "        projects = [adapter.validate_python(project) for project in projects_response.data]\n",
    "\n",
    "        all_projects.extend(projects)\n",
    "        page_number += 1\n",
    "\n",
    "        if total_projects is None:\n",
    "            total_projects = projects_response.number_docs\n",
    "\n",
    "        tqdm.write(f\"Page {page_number - 1} fetched. Total projects so far: {len(all_projects)}/{total_projects}\")\n",
    "\n",
    "    \n",
    "    pd.set_option('display.max_columns', None)\n",
    "    flat_projects = [flatten_project_data(project) for project in all_projects]\n",
    "    df = pd.DataFrame(flat_projects)\n",
    "    display(df)\n",
    " "
   ],
   "id": "8db5f1e1d1c1e841",
   "outputs": [],
   "execution_count": null
  },
  {
   "metadata": {},
   "cell_type": "code",
   "source": [
    "# Fetch and display projects\n",
    "await iterate_projects(client, page_size=60)"
   ],
   "id": "f4109e0e06c42c02",
   "outputs": [],
   "execution_count": null
  },
  {
   "metadata": {},
   "cell_type": "markdown",
   "source": "## Example of using the API to get projects statistics",
   "id": "5c5909f7a4b82774"
  },
  {
   "metadata": {},
   "cell_type": "code",
   "source": [
    "# Fetch statistics data\n",
    "stats = await client.stat_handler.get_stats()\n",
    "print(stats.model_dump())"
   ],
   "id": "73a97f30c579c548",
   "outputs": [],
   "execution_count": null
  },
  {
   "metadata": {},
   "cell_type": "markdown",
   "source": "## Example of using the API to query projects",
   "id": "c670bc4d89ab3c97"
  },
  {
   "metadata": {},
   "cell_type": "code",
   "source": [
    "# Query projects\n",
    "query_response = await client.project_handler.query_projects(\n",
    "    isExperiment=True,\n",
    "    limit=10\n",
    ")\n",
    "\n",
    "print(f\"Found {len(query_response)} projects:\")\n",
    "print(\"-\" * 40)\n",
    "# pretty print the projects\n",
    "for index, doc in enumerate(query_response, start=1):\n",
    "    print(f\"Project {index}:\")\n",
    "    # Convert to dict and then to JSON for pretty printing\n",
    "    project_dict = json.loads(doc.model_dump_json())\n",
    "    # Pretty print with custom formatting\n",
    "    pprint(project_dict, width=100, sort_dicts=False, indent=2)\n",
    "    print(\"-\" * 40)  # Separator between projects"
   ],
   "id": "429e52bc58dc2754",
   "outputs": [],
   "execution_count": null
  },
  {
   "metadata": {},
   "cell_type": "markdown",
   "source": [
    "## Example of using the API to create a new project\n",
    "\n",
    "1. Define data as a dictionary\n",
    "2. validate schema using pydantic model\n",
    "3. insert the project using the project_handler.create_project method"
   ],
   "id": "75904f708f048cde"
  },
  {
   "metadata": {},
   "cell_type": "code",
   "source": [
    "data = {\n",
    "    \"project\": {\n",
    "        \"name\": \"Materials for Batteries\",\n",
    "        \"label\": \"MB\",\n",
    "        \"description\": \"IEMAP - TEST Project for batteries\"\n",
    "    },\n",
    "    \"material\": {\n",
    "        \"formula\": \"C15H20N2F6S2O4\"\n",
    "    },\n",
    "    \"process\": {\n",
    "        \"method\": \"Karl-Fischer titration\",\n",
    "        \"agent\": {\n",
    "            \"name\": \"Karl-Fischer titrator Mettler Toledo\",\n",
    "            \"version\": None\n",
    "        },\n",
    "        \"isExperiment\": True\n",
    "    },\n",
    "    \"parameters\": [\n",
    "        {\n",
    "            \"name\": \"time\",\n",
    "            \"value\": 20,\n",
    "            \"unit\": \"s\"\n",
    "        },\n",
    "        {\n",
    "            \"name\": \"weight\",\n",
    "            \"value\": 0.5,\n",
    "            \"unit\": \"gr\"\n",
    "        }\n",
    "    ],\n",
    "    \"properties\": [\n",
    "        {\n",
    "            \"name\": \"Moisture content\",\n",
    "            \"value\": \"<2\",\n",
    "            \"unit\": \"ppm\"\n",
    "        }\n",
    "    ]\n",
    "}"
   ],
   "id": "bcb7cba577b4e377",
   "outputs": [],
   "execution_count": null
  },
  {
   "metadata": {},
   "cell_type": "code",
   "source": [
    "valid_payload = ProjectHandler.build_project_payload(data)\n",
    "if valid_payload:\n",
    "    print(\"Payload is valid and ready to be submitted.\")\n",
    "    current_proj = IEMAPProject(**valid_payload)\n",
    "    new_project = await client.project_handler.create_project(current_proj)\n",
    "    print(new_project)\n",
    "else:\n",
    "    print(\"Payload is invalid.\")"
   ],
   "id": "53b6e8279328b0da",
   "outputs": [],
   "execution_count": null
  },
  {
   "metadata": {},
   "cell_type": "markdown",
   "source": [
    "## Add a file to the project\n",
    "1. This is a two step process, first we define a project or get a valid project id\n",
    "2. Then we define a file object and add it to the project\n",
    "3. The file object is a dictionary containing the file content and the file name\n",
    "4. We use the *project_handler.add_file_to_project* method to add the file to the project\n",
    "\n",
    "> For example, we can use the project created in the previous step: new_project.inserted_id"
   ],
   "id": "840f1f961f843994"
  },
  {
   "metadata": {},
   "cell_type": "markdown",
   "source": "",
   "id": "331c2cbacb0e9890"
  },
  {
   "metadata": {},
   "cell_type": "code",
   "source": "new_project.inserted_id",
   "id": "ac6390aaa0667cd1",
   "outputs": [],
   "execution_count": null
  },
  {
   "metadata": {},
   "cell_type": "code",
   "source": [
    "fw = FileUpload(description=\"Choose file:\",  \n",
    "                         accept='', # Accepted file extension e.g. '.txt', '.pdf', 'image/', 'image/,.pdf'\n",
    "                         multiple=False # True to accept multiple files upload else False\n",
    " )\n",
    "fw"
   ],
   "id": "8d79a3d7be318be",
   "outputs": [],
   "execution_count": null
  },
  {
   "metadata": {},
   "cell_type": "code",
   "source": [
    "# Upload the file to the project\n",
    "# path_files='./host_files'\n",
    "if fw.value:\n",
    "    file_name = fw.value[0]['name'].split(\".\")[0]\n",
    "    file_full_path = fw.value[0]['name'] #  path_files +'/'+fw.value[0]['name'] if executing from Docker container\n",
    "    file_response = await client.project_handler.add_file_to_project(\n",
    "        project_id=new_project.inserted_id, # Use the project ID from the previous step or any valid project ID\n",
    "        file_path=file_full_path,\n",
    "        file_name=file_name\n",
    "    )\n",
    "    if file_response['uploaded']:\n",
    "        file_info = FileInfo(**file_response)\n",
    "        print(f\"File {file_info.file_name} uploaded successfully to project (saved as {file_info.file_hash})\")\n",
    "    else:\n",
    "        print(\"File upload failed.\")"
   ],
   "id": "8fe2468b528e0d5f",
   "outputs": [],
   "execution_count": null
  },
  {
   "metadata": {},
   "cell_type": "markdown",
   "source": "## Add file to Project using a file dialog in case Ipywidgets are not working",
   "id": "86ad74af464341ec"
  },
  {
   "metadata": {},
   "cell_type": "code",
   "source": [
    "import tkinter as tk\n",
    "from tkinter import filedialog\n",
    "from pathlib import Path\n",
    "\n",
    "async def select_and_upload_file(client, project_id):\n",
    "    root = tk.Tk()\n",
    "    root.withdraw()  # Hide the main window\n",
    "\n",
    "    file_path_to_upload = filedialog.askopenfilename(filetypes=[(\"All files\", \"*.*\")], initialdir=\"./\")\n",
    "\n",
    "    if not file_path_to_upload:  # User cancelled file selection\n",
    "        print(\"File selection cancelled.\")\n",
    "        return\n",
    "\n",
    "    path = Path(file_path_to_upload)\n",
    "\n",
    "    if path.exists() and path.is_file():\n",
    "        file_name = path.name\n",
    "        try:\n",
    "            # with open(path, 'rb') as file:\n",
    "            #     file_content = file.read()\n",
    "\n",
    "            file_response = await client.project_handler.add_file_to_project(\n",
    "                project_id= project_id,\n",
    "                file_path=file_path_to_upload,\n",
    "                file_name=file_name\n",
    "            )\n",
    "\n",
    "            if file_response['uploaded']:\n",
    "                file_info = FileInfo(**file_response)\n",
    "                print(f\"File {file_info.file_name} uploaded successfully to project (saved as {file_info.file_hash})\")\n",
    "            else:\n",
    "                print(\"File upload failed.\")\n",
    "        except IOError as e:\n",
    "            print(f\"Error reading file: {e}\")\n",
    "        except Exception as e:\n",
    "            print(f\"An error occurred during file upload: {e}\")\n",
    "    elif path.exists() and not path.is_file():\n",
    "        print(\"The selected path is not a file.\")\n",
    "    else:\n",
    "        print(\"The selected file does not exist.\")\n"
   ],
   "id": "adf412246826ea09",
   "outputs": [],
   "execution_count": null
  },
  {
   "metadata": {},
   "cell_type": "code",
   "source": "await select_and_upload_file(client, \"66d5b9d5b995c52cd95b1dc2\")#, new_project.inserted_id)",
   "id": "140c1b4d814b0750",
   "outputs": [],
   "execution_count": null
  },
  {
   "metadata": {},
   "cell_type": "code",
   "source": "client.token",
   "id": "c73ad1c50e287b16",
   "outputs": [],
   "execution_count": null
  },
  {
   "metadata": {},
   "cell_type": "markdown",
   "source": "## Example of file download using REST API instead of iemap-mi module",
   "id": "7b06e9258a07588c"
  },
  {
   "metadata": {},
   "cell_type": "code",
   "source": [
    "import httpx\n",
    "async def retrieve_file(file_hash: str, file_extension: str, jwt_token: str, save_path: str = None):\n",
    "    base_url = \"https://iemap.enea.it/rest\"\n",
    "    file_url = f\"{base_url}/file/{file_hash}{file_extension}\"\n",
    "    headers = {\n",
    "        \"Authorization\": f\"Bearer {jwt_token}\"\n",
    "    }\n",
    "\n",
    "    async with httpx.AsyncClient() as client:\n",
    "        try:\n",
    "            response = await client.get(file_url, headers=headers)\n",
    "            response.raise_for_status()  # Raises an HTTPError for bad responses (4xx or 5xx)\n",
    "\n",
    "            if save_path:\n",
    "                # If a save path is provided, save the file\n",
    "                file_path = Path(save_path)\n",
    "                file_path.write_bytes(response.content)\n",
    "                print(f\"File saved successfully to {file_path}\")\n",
    "                return file_path\n",
    "            else:\n",
    "                # If no save path is provided, return the content\n",
    "                return response.content\n",
    "\n",
    "        except httpx.HTTPStatusError as e:\n",
    "            print(f\"HTTP error occurred: {e}\")\n",
    "        except httpx.RequestError as e:\n",
    "            print(f\"An error occurred while requesting {e.request.url!r}.\")\n",
    "        except Exception as e:\n",
    "            print(f\"An unexpected error occurred: {e}\")"
   ],
   "id": "24d1163f0095a4cd",
   "outputs": [],
   "execution_count": null
  },
  {
   "metadata": {},
   "cell_type": "code",
   "source": [
    "# Download the file\n",
    "hash_file = \"HASH_FILE\"\n",
    "await retrieve_file(hash_file, \".pdf\", client.token, save_path=\"./downloaded_file.pdf\")"
   ],
   "id": "ba0b0dee830b5bf7",
   "outputs": [],
   "execution_count": null
  },
  {
   "metadata": {},
   "cell_type": "code",
   "source": "",
   "id": "1d59a75f4d3fa0d2",
   "outputs": [],
   "execution_count": null
  }
 ],
 "metadata": {
  "kernelspec": {
   "display_name": "Python 3",
   "language": "python",
   "name": "python3"
  },
  "language_info": {
   "codemirror_mode": {
    "name": "ipython",
    "version": 2
   },
   "file_extension": ".py",
   "mimetype": "text/x-python",
   "name": "python",
   "nbconvert_exporter": "python",
   "pygments_lexer": "ipython2",
   "version": "2.7.6"
  }
 },
 "nbformat": 4,
 "nbformat_minor": 5
}
